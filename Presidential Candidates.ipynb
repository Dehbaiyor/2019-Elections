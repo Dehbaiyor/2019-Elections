{
 "cells": [
  {
   "cell_type": "markdown",
   "metadata": {},
   "source": [
    "# Loading Data"
   ]
  },
  {
   "cell_type": "code",
   "execution_count": 1,
   "metadata": {},
   "outputs": [],
   "source": [
    "import numpy as np\n",
    "import pandas as pd\n",
    "import seaborn as sns\n",
    "import matplotlib.pylab as plt"
   ]
  },
  {
   "cell_type": "code",
   "execution_count": 2,
   "metadata": {},
   "outputs": [],
   "source": [
    "sns.set_style('whitegrid')\n",
    "sns.set_context(font_scale=1.2)"
   ]
  },
  {
   "cell_type": "code",
   "execution_count": 3,
   "metadata": {
    "scrolled": true
   },
   "outputs": [],
   "source": [
    "pres_cdt = pd.read_csv('2019-GENERAL-ELECTIONS-FINAL-LIST-OF-PRESIDENTIAL-CANDIDATES.csv',index_col=0)"
   ]
  },
  {
   "cell_type": "markdown",
   "metadata": {},
   "source": [
    "# Preliminary Data Exploration"
   ]
  },
  {
   "cell_type": "code",
   "execution_count": 4,
   "metadata": {
    "scrolled": true
   },
   "outputs": [
    {
     "data": {
      "text/html": [
       "<div>\n",
       "<style scoped>\n",
       "    .dataframe tbody tr th:only-of-type {\n",
       "        vertical-align: middle;\n",
       "    }\n",
       "\n",
       "    .dataframe tbody tr th {\n",
       "        vertical-align: top;\n",
       "    }\n",
       "\n",
       "    .dataframe thead th {\n",
       "        text-align: right;\n",
       "    }\n",
       "</style>\n",
       "<table border=\"1\" class=\"dataframe\">\n",
       "  <thead>\n",
       "    <tr style=\"text-align: right;\">\n",
       "      <th></th>\n",
       "      <th>POSITION</th>\n",
       "      <th>NAME OF CANDIDATE</th>\n",
       "      <th>PARTY</th>\n",
       "      <th>PWD</th>\n",
       "      <th>AGE</th>\n",
       "      <th>GENDER</th>\n",
       "      <th>QUALIFICATION</th>\n",
       "      <th>REMARKS</th>\n",
       "      <th>STATE OF ORIGIN</th>\n",
       "      <th>Twitter Handle</th>\n",
       "      <th>Official Website</th>\n",
       "    </tr>\n",
       "    <tr>\n",
       "      <th>SN</th>\n",
       "      <th></th>\n",
       "      <th></th>\n",
       "      <th></th>\n",
       "      <th></th>\n",
       "      <th></th>\n",
       "      <th></th>\n",
       "      <th></th>\n",
       "      <th></th>\n",
       "      <th></th>\n",
       "      <th></th>\n",
       "      <th></th>\n",
       "    </tr>\n",
       "  </thead>\n",
       "  <tbody>\n",
       "    <tr>\n",
       "      <th>1</th>\n",
       "      <td>PRESIDENT</td>\n",
       "      <td>OSITELU  ISAAC BABATUNDE</td>\n",
       "      <td>A</td>\n",
       "      <td>None</td>\n",
       "      <td>64.0</td>\n",
       "      <td>M</td>\n",
       "      <td>FSLC, BSc, WASC, MSc</td>\n",
       "      <td>NaN</td>\n",
       "      <td>NaN</td>\n",
       "      <td>NaN</td>\n",
       "      <td>NaN</td>\n",
       "    </tr>\n",
       "    <tr>\n",
       "      <th>2</th>\n",
       "      <td>VICE-</td>\n",
       "      <td>LAWAL NAFIU MUHAMMAD</td>\n",
       "      <td>A</td>\n",
       "      <td>None</td>\n",
       "      <td>33.0</td>\n",
       "      <td>M</td>\n",
       "      <td>FSLC, BSc, NECO</td>\n",
       "      <td>NaN</td>\n",
       "      <td>NaN</td>\n",
       "      <td>NaN</td>\n",
       "      <td>NaN</td>\n",
       "    </tr>\n",
       "    <tr>\n",
       "      <th>3</th>\n",
       "      <td>PRESIDENT</td>\n",
       "      <td>ABDULRASHID HASSAN BABA</td>\n",
       "      <td>AA</td>\n",
       "      <td>None</td>\n",
       "      <td>46.0</td>\n",
       "      <td>M</td>\n",
       "      <td>SSCE</td>\n",
       "      <td>NaN</td>\n",
       "      <td>NaN</td>\n",
       "      <td>NaN</td>\n",
       "      <td>NaN</td>\n",
       "    </tr>\n",
       "    <tr>\n",
       "      <th>4</th>\n",
       "      <td>VICE-</td>\n",
       "      <td>UCHENDU UJU PEACE OZOKA</td>\n",
       "      <td>AA</td>\n",
       "      <td>None</td>\n",
       "      <td>49.0</td>\n",
       "      <td>F</td>\n",
       "      <td>LLB</td>\n",
       "      <td>NaN</td>\n",
       "      <td>NaN</td>\n",
       "      <td>NaN</td>\n",
       "      <td>NaN</td>\n",
       "    </tr>\n",
       "    <tr>\n",
       "      <th>5</th>\n",
       "      <td>PRESIDENT</td>\n",
       "      <td>OMOYELE SOWORE</td>\n",
       "      <td>AAC</td>\n",
       "      <td>None</td>\n",
       "      <td>47.0</td>\n",
       "      <td>M</td>\n",
       "      <td>WAEC</td>\n",
       "      <td>NaN</td>\n",
       "      <td>NaN</td>\n",
       "      <td>NaN</td>\n",
       "      <td>NaN</td>\n",
       "    </tr>\n",
       "  </tbody>\n",
       "</table>\n",
       "</div>"
      ],
      "text/plain": [
       "     POSITION         NAME OF CANDIDATE PARTY   PWD   AGE GENDER  \\\n",
       "SN                                                                 \n",
       "1   PRESIDENT  OSITELU  ISAAC BABATUNDE     A  None  64.0      M   \n",
       "2       VICE-      LAWAL NAFIU MUHAMMAD     A  None  33.0      M   \n",
       "3   PRESIDENT   ABDULRASHID HASSAN BABA    AA  None  46.0      M   \n",
       "4       VICE-   UCHENDU UJU PEACE OZOKA    AA  None  49.0      F   \n",
       "5   PRESIDENT            OMOYELE SOWORE   AAC  None  47.0      M   \n",
       "\n",
       "           QUALIFICATION  REMARKS  STATE OF ORIGIN  Twitter Handle  \\\n",
       "SN                                                                   \n",
       "1   FSLC, BSc, WASC, MSc      NaN              NaN             NaN   \n",
       "2        FSLC, BSc, NECO      NaN              NaN             NaN   \n",
       "3                   SSCE      NaN              NaN             NaN   \n",
       "4                    LLB      NaN              NaN             NaN   \n",
       "5                   WAEC      NaN              NaN             NaN   \n",
       "\n",
       "    Official Website  \n",
       "SN                    \n",
       "1                NaN  \n",
       "2                NaN  \n",
       "3                NaN  \n",
       "4                NaN  \n",
       "5                NaN  "
      ]
     },
     "execution_count": 4,
     "metadata": {},
     "output_type": "execute_result"
    }
   ],
   "source": [
    "pres_cdt.head()"
   ]
  },
  {
   "cell_type": "code",
   "execution_count": 5,
   "metadata": {
    "scrolled": true
   },
   "outputs": [],
   "source": [
    "del pres_cdt['PWD']\n",
    "pres_cdt.dropna(axis=1,inplace=True,how='all')\n",
    "pres_cdt.dropna(axis=0,inplace=True,)\n",
    "pres_cdt.reset_index(inplace=True)"
   ]
  },
  {
   "cell_type": "code",
   "execution_count": 6,
   "metadata": {},
   "outputs": [
    {
     "name": "stdout",
     "output_type": "stream",
     "text": [
      "<class 'pandas.core.frame.DataFrame'>\n",
      "RangeIndex: 144 entries, 0 to 143\n",
      "Data columns (total 7 columns):\n",
      "SN                   144 non-null int64\n",
      "POSITION             144 non-null object\n",
      "NAME OF CANDIDATE    144 non-null object\n",
      "PARTY                144 non-null object\n",
      "AGE                  144 non-null float64\n",
      "GENDER               144 non-null object\n",
      "QUALIFICATION        144 non-null object\n",
      "dtypes: float64(1), int64(1), object(5)\n",
      "memory usage: 8.0+ KB\n"
     ]
    }
   ],
   "source": [
    "pres_cdt.info()"
   ]
  },
  {
   "cell_type": "markdown",
   "metadata": {},
   "source": [
    "# Data Cleaning and Feature Engineering"
   ]
  },
  {
   "cell_type": "markdown",
   "metadata": {},
   "source": [
    "In this section, I tried to group the qualifications into meaningful subgroups. I then used a series of hierarchical for loops to map each candidates to a 'highest level of education' feature.\n",
    "\n",
    "P.S: I know there may be more Pythonic ways to do this. I would love to see your improvements."
   ]
  },
  {
   "cell_type": "markdown",
   "metadata": {},
   "source": [
    "## Data Cleaning"
   ]
  },
  {
   "cell_type": "code",
   "execution_count": 7,
   "metadata": {
    "scrolled": true
   },
   "outputs": [],
   "source": [
    "z=pres_cdt['QUALIFICATION'].str.split(',')"
   ]
  },
  {
   "cell_type": "code",
   "execution_count": 8,
   "metadata": {
    "scrolled": true
   },
   "outputs": [],
   "source": [
    "ls = z[1]\n",
    "for i in range(2, len(z)):\n",
    "    for x in z[i]:\n",
    "            ls.append(x)"
   ]
  },
  {
   "cell_type": "code",
   "execution_count": 9,
   "metadata": {},
   "outputs": [],
   "source": [
    "lst=list(set(list((','.join(ls)).lower().split(','))))"
   ]
  },
  {
   "cell_type": "code",
   "execution_count": 10,
   "metadata": {},
   "outputs": [
    {
     "name": "stdout",
     "output_type": "stream",
     "text": [
      "[' ll.m', '', 'wasc', 'pgd', ' bsc', ' wasc o&a', ' it fm (mba)', 'mbbs', ' mph', 'ssce', ' hnd', '  bl', ' ma', 'hnd', 'nce', ' ol', ' mba', ' pgd', 'p.', 'bed', ' nce', 'nd', 'hdpa', ' cdt', ' wasc', 'waec', ' executive certificate', ' bed', 'bl', ' waec', ' ps', ' nda cert', ' llb', ' ond', ' btech', ' pharm. d', ' dip', ' b.sc', ' hsc', 'diploma', 'ond', ' nabteb', 'phd', ' neco', ' ba', 'fnipr', ' nd', ' od', 'dba', ' ssce', ' mba mphil', ' gce', ' al', ' bsc.', ' diploma', ' llm', 'llb', ' msc', 'b.phil', ' juris doctor', ' phd', 'msc', 'ba', ' b.eng', 'bsc', ' bl', 'fslc']\n",
      "67\n"
     ]
    }
   ],
   "source": [
    "print(lst)\n",
    "print(len(lst))"
   ]
  },
  {
   "cell_type": "code",
   "execution_count": 11,
   "metadata": {},
   "outputs": [
    {
     "name": "stdout",
     "output_type": "stream",
     "text": [
      "['', 'nabteb', 'pgd', 'wasc', 'll.m', 'juris doctor', 'btech', 'mbbs', 'ssce', 'mph', 'nce', 'hnd', 'p.', 'nd', 'ma', 'pharm. d', 'bsc.', 'ps', 'bed', 'hdpa', 'waec', 'bl', 'od', 'al', 'executive certificate', 'mba mphil', 'b.eng', 'diploma', 'ond', 'phd', 'fnipr', 'dba', 'neco', 'gce', 'llm', 'mba', 'nda cert', 'cdt', 'llb', 'b.sc', 'dip', 'b.phil', 'ba', 'msc', 'hsc', 'bsc', 'it fm (mba)', 'wasc o&a', 'ol', 'fslc']\n",
      "50\n"
     ]
    }
   ],
   "source": [
    "lst = [i.strip() for i in lst]\n",
    "lst=list(set(lst))\n",
    "print(lst)\n",
    "print(len(lst))"
   ]
  },
  {
   "cell_type": "code",
   "execution_count": 12,
   "metadata": {},
   "outputs": [],
   "source": [
    "lst.remove('')"
   ]
  },
  {
   "cell_type": "code",
   "execution_count": 13,
   "metadata": {
    "scrolled": true
   },
   "outputs": [],
   "source": [
    "uni = ['nda cert']\n",
    "for i in lst:\n",
    "#    i = i.strip()\n",
    "    if i.startswith('b')==True or i=='mbbs' or i=='ll.m' or i=='llb' or i =='llm' or i == 'pharm. d' :\n",
    "        uni.append(i)\n",
    "lst=list(set(lst)-set(uni)) "
   ]
  },
  {
   "cell_type": "code",
   "execution_count": 14,
   "metadata": {},
   "outputs": [],
   "source": [
    "ps = ['fslc']\n",
    "ss = ['neco']\n",
    "for i in lst:\n",
    "#    i = i.strip()\n",
    "    if i.startswith('w')==True  or i.startswith('g') or i.startswith('s'):\n",
    "        ss.append(i)\n",
    "lst=list(set(lst)-set(ps)-set(ss)) "
   ]
  },
  {
   "cell_type": "code",
   "execution_count": 15,
   "metadata": {},
   "outputs": [],
   "source": [
    "pg = []\n",
    "for i in lst:\n",
    "#    i = i.strip()\n",
    "    if i.startswith('m')==True or i == 'it fm (mba)' or i == 'pgd':\n",
    "        pg.append(i)\n",
    "lst=list(set(lst)-set(pg)) "
   ]
  },
  {
   "cell_type": "code",
   "execution_count": 16,
   "metadata": {},
   "outputs": [],
   "source": [
    "ond = ['ond','diploma','nd']\n",
    "hnd = ['hnd']\n",
    "phd = ['phd']\n",
    "nce=['nce']"
   ]
  },
  {
   "cell_type": "code",
   "execution_count": 17,
   "metadata": {},
   "outputs": [],
   "source": [
    "others=list(set(lst)-set(ond)-set(hnd)-set(phd)-set(nce)) "
   ]
  },
  {
   "cell_type": "code",
   "execution_count": 18,
   "metadata": {},
   "outputs": [
    {
     "name": "stdout",
     "output_type": "stream",
     "text": [
      "['nabteb', 'cdt', 'juris doctor', 'fnipr', 'dba', 'dip', 'od', 'p.', 'al', 'hsc', 'executive certificate', 'ps', 'ol', 'hdpa'] \n",
      " ['ond', 'diploma', 'nd'] \n",
      " ['hnd'] \n",
      " ['phd'] \n",
      " ['pgd', 'mph', 'ma', 'mba mphil', 'mba', 'msc', 'it fm (mba)'] \n",
      " ['fslc'] \n",
      " ['nda cert', 'll.m', 'btech', 'mbbs', 'pharm. d', 'bsc.', 'bed', 'bl', 'b.eng', 'llm', 'llb', 'b.sc', 'b.phil', 'ba', 'bsc'] \n",
      " ['neco', 'wasc', 'ssce', 'waec', 'gce', 'wasc o&a'] \n",
      " ['nce']\n"
     ]
    }
   ],
   "source": [
    "print(others,'\\n',ond,'\\n',hnd,'\\n',phd,'\\n',pg,'\\n',ps,'\\n',uni,'\\n',ss,'\\n',nce)"
   ]
  },
  {
   "cell_type": "markdown",
   "metadata": {},
   "source": [
    "## Feature Engineering"
   ]
  },
  {
   "cell_type": "code",
   "execution_count": 19,
   "metadata": {},
   "outputs": [],
   "source": [
    "cer=dict()\n",
    "for i in ','.join(others).split(','):\n",
    "    for j in pres_cdt['QUALIFICATION'].index:\n",
    "        if i in pres_cdt['QUALIFICATION'][j].lower():\n",
    "           cer[j]='Others'\n",
    "        else:\n",
    "            cer[j]='x'"
   ]
  },
  {
   "cell_type": "code",
   "execution_count": 20,
   "metadata": {},
   "outputs": [],
   "source": [
    "for i in ','.join(phd).split(','):\n",
    "    for key in cer.keys():\n",
    "        if i in pres_cdt['QUALIFICATION'][key].lower() and cer[key]=='x':\n",
    "           cer[key]='Doctorate'"
   ]
  },
  {
   "cell_type": "code",
   "execution_count": 21,
   "metadata": {},
   "outputs": [],
   "source": [
    "for i in ','.join(pg).split(','):\n",
    "    for key in cer.keys():\n",
    "        if i in pres_cdt['QUALIFICATION'][key].lower() and cer[key]=='x':\n",
    "           cer[key]='Postgraduate'"
   ]
  },
  {
   "cell_type": "code",
   "execution_count": 22,
   "metadata": {},
   "outputs": [],
   "source": [
    "for i in ','.join(uni).split(','):\n",
    "    for key in cer.keys():\n",
    "        if i in pres_cdt['QUALIFICATION'][key].lower() and cer[key]=='x':\n",
    "           cer[key]='University'"
   ]
  },
  {
   "cell_type": "code",
   "execution_count": 23,
   "metadata": {},
   "outputs": [],
   "source": [
    "for i in ','.join(hnd).split(','):\n",
    "    for key in cer.keys():\n",
    "        if i in pres_cdt['QUALIFICATION'][key].lower() and cer[key]=='x':\n",
    "           cer[key]='HND'"
   ]
  },
  {
   "cell_type": "code",
   "execution_count": 24,
   "metadata": {},
   "outputs": [],
   "source": [
    "for i in ','.join(nce).split(','):\n",
    "    for key in cer.keys():\n",
    "        if i in pres_cdt['QUALIFICATION'][key].lower() and cer[key]=='x':\n",
    "           cer[key]='NCE'"
   ]
  },
  {
   "cell_type": "code",
   "execution_count": 25,
   "metadata": {},
   "outputs": [],
   "source": [
    "for i in ','.join(ond).split(','):\n",
    "    for key in cer.keys():\n",
    "        if i in pres_cdt['QUALIFICATION'][key].lower() and cer[key]=='x':\n",
    "           cer[key]='OND'"
   ]
  },
  {
   "cell_type": "code",
   "execution_count": 26,
   "metadata": {},
   "outputs": [],
   "source": [
    "for i in ','.join(ss).split(','):\n",
    "    for key in cer.keys():\n",
    "        if i in pres_cdt['QUALIFICATION'][key].lower() and cer[key]=='x':\n",
    "           cer[key]='Secondary School'"
   ]
  },
  {
   "cell_type": "code",
   "execution_count": 27,
   "metadata": {},
   "outputs": [],
   "source": [
    "for i in ','.join(ps).split(','):\n",
    "    for key in cer.keys():\n",
    "        if i in pres_cdt['QUALIFICATION'][key].lower() and cer[key]=='x':\n",
    "           cer[key]='Primary School'"
   ]
  },
  {
   "cell_type": "code",
   "execution_count": 28,
   "metadata": {},
   "outputs": [],
   "source": [
    " for key in cer.keys():\n",
    "        if cer[key]=='x':\n",
    "           cer[key]='Others'"
   ]
  },
  {
   "cell_type": "code",
   "execution_count": 29,
   "metadata": {},
   "outputs": [
    {
     "name": "stdout",
     "output_type": "stream",
     "text": [
      "{0: 'Postgraduate', 1: 'University', 2: 'Secondary School', 3: 'University', 4: 'Secondary School', 5: 'Postgraduate', 6: 'University', 7: 'University', 8: 'Secondary School', 9: 'University', 10: 'University', 11: 'University', 12: 'Doctorate', 13: 'Others', 14: 'Doctorate', 15: 'Doctorate', 16: 'University', 17: 'Secondary School', 18: 'University', 19: 'Postgraduate', 20: 'Secondary School', 21: 'Secondary School', 22: 'Doctorate', 23: 'University', 24: 'Postgraduate', 25: 'Postgraduate', 26: 'University', 27: 'Secondary School', 28: 'Postgraduate', 29: 'University', 30: 'Doctorate', 31: 'Postgraduate', 32: 'Secondary School', 33: 'University', 34: 'University', 35: 'Doctorate', 36: 'Secondary School', 37: 'University', 38: 'University', 39: 'University', 40: 'Primary School', 41: 'Primary School', 42: 'Postgraduate', 43: 'Postgraduate', 44: 'University', 45: 'University', 46: 'University', 47: 'Postgraduate', 48: 'Secondary School', 49: 'NCE', 50: 'Secondary School', 51: 'University', 52: 'University', 53: 'NCE', 54: 'Postgraduate', 55: 'HND', 56: 'OND', 57: 'University', 58: 'Postgraduate', 59: 'Secondary School', 60: 'Doctorate', 61: 'HND', 62: 'University', 63: 'University', 64: 'Doctorate', 65: 'University', 66: 'Doctorate', 67: 'HND', 68: 'Postgraduate', 69: 'HND', 70: 'Secondary School', 71: 'Secondary School', 72: 'Secondary School', 73: 'OND', 74: 'Doctorate', 75: 'Doctorate', 76: 'Doctorate', 77: 'University', 78: 'Postgraduate', 79: 'Secondary School', 80: 'Doctorate', 81: 'University', 82: 'Secondary School', 83: 'HND', 84: 'Postgraduate', 85: 'NCE', 86: 'Postgraduate', 87: 'University', 88: 'HND', 89: 'Secondary School', 90: 'Postgraduate', 91: 'Secondary School', 92: 'Secondary School', 93: 'Postgraduate', 94: 'University', 95: 'Postgraduate', 96: 'OND', 97: 'University', 98: 'University', 99: 'Postgraduate', 100: 'University', 101: 'University', 102: 'University', 103: 'University', 104: 'NCE', 105: 'University', 106: 'University', 107: 'Postgraduate', 108: 'Postgraduate', 109: 'University', 110: 'OND', 111: 'University', 112: 'Postgraduate', 113: 'University', 114: 'Postgraduate', 115: 'University', 116: 'University', 117: 'OND', 118: 'Secondary School', 119: 'Secondary School', 120: 'Postgraduate', 121: 'Doctorate', 122: 'Doctorate', 123: 'Postgraduate', 124: 'HND', 125: 'University', 126: 'University', 127: 'OND', 128: 'HND', 129: 'HND', 130: 'Secondary School', 131: 'Postgraduate', 132: 'Postgraduate', 133: 'University', 134: 'University', 135: 'Postgraduate', 136: 'HND', 137: 'HND', 138: 'Doctorate', 139: 'Postgraduate', 140: 'OND', 141: 'Postgraduate', 142: 'Doctorate', 143: 'HND'}\n"
     ]
    }
   ],
   "source": [
    "print(cer)"
   ]
  },
  {
   "cell_type": "code",
   "execution_count": 30,
   "metadata": {
    "scrolled": true
   },
   "outputs": [],
   "source": [
    "a=pd.DataFrame(pd.Series(cer,index=cer.keys()),columns=['Highest Education'])"
   ]
  },
  {
   "cell_type": "code",
   "execution_count": 31,
   "metadata": {
    "scrolled": true
   },
   "outputs": [
    {
     "data": {
      "text/html": [
       "<div>\n",
       "<style scoped>\n",
       "    .dataframe tbody tr th:only-of-type {\n",
       "        vertical-align: middle;\n",
       "    }\n",
       "\n",
       "    .dataframe tbody tr th {\n",
       "        vertical-align: top;\n",
       "    }\n",
       "\n",
       "    .dataframe thead th {\n",
       "        text-align: right;\n",
       "    }\n",
       "</style>\n",
       "<table border=\"1\" class=\"dataframe\">\n",
       "  <thead>\n",
       "    <tr style=\"text-align: right;\">\n",
       "      <th></th>\n",
       "      <th>Highest Education</th>\n",
       "    </tr>\n",
       "  </thead>\n",
       "  <tbody>\n",
       "    <tr>\n",
       "      <th>0</th>\n",
       "      <td>Postgraduate</td>\n",
       "    </tr>\n",
       "    <tr>\n",
       "      <th>1</th>\n",
       "      <td>University</td>\n",
       "    </tr>\n",
       "    <tr>\n",
       "      <th>2</th>\n",
       "      <td>Secondary School</td>\n",
       "    </tr>\n",
       "    <tr>\n",
       "      <th>3</th>\n",
       "      <td>University</td>\n",
       "    </tr>\n",
       "    <tr>\n",
       "      <th>4</th>\n",
       "      <td>Secondary School</td>\n",
       "    </tr>\n",
       "  </tbody>\n",
       "</table>\n",
       "</div>"
      ],
      "text/plain": [
       "  Highest Education\n",
       "0      Postgraduate\n",
       "1        University\n",
       "2  Secondary School\n",
       "3        University\n",
       "4  Secondary School"
      ]
     },
     "execution_count": 31,
     "metadata": {},
     "output_type": "execute_result"
    }
   ],
   "source": [
    "a.head()"
   ]
  },
  {
   "cell_type": "code",
   "execution_count": 32,
   "metadata": {},
   "outputs": [],
   "source": [
    "del pres_cdt['QUALIFICATION']\n",
    "pres_cdt=pres_cdt.join(a)\n",
    "pres_cdt.reset_index(level=0,drop=True, inplace=True)"
   ]
  },
  {
   "cell_type": "code",
   "execution_count": 33,
   "metadata": {},
   "outputs": [],
   "source": [
    "del pres_cdt['SN']"
   ]
  },
  {
   "cell_type": "markdown",
   "metadata": {},
   "source": [
    "# Explorative Data Analysis"
   ]
  },
  {
   "cell_type": "markdown",
   "metadata": {},
   "source": [
    "## Descriptive Statistics"
   ]
  },
  {
   "cell_type": "code",
   "execution_count": 34,
   "metadata": {},
   "outputs": [
    {
     "data": {
      "text/html": [
       "<div>\n",
       "<style scoped>\n",
       "    .dataframe tbody tr th:only-of-type {\n",
       "        vertical-align: middle;\n",
       "    }\n",
       "\n",
       "    .dataframe tbody tr th {\n",
       "        vertical-align: top;\n",
       "    }\n",
       "\n",
       "    .dataframe thead th {\n",
       "        text-align: right;\n",
       "    }\n",
       "</style>\n",
       "<table border=\"1\" class=\"dataframe\">\n",
       "  <thead>\n",
       "    <tr style=\"text-align: right;\">\n",
       "      <th></th>\n",
       "      <th>AGE</th>\n",
       "    </tr>\n",
       "  </thead>\n",
       "  <tbody>\n",
       "    <tr>\n",
       "      <th>count</th>\n",
       "      <td>144.000000</td>\n",
       "    </tr>\n",
       "    <tr>\n",
       "      <th>mean</th>\n",
       "      <td>49.888889</td>\n",
       "    </tr>\n",
       "    <tr>\n",
       "      <th>std</th>\n",
       "      <td>9.844320</td>\n",
       "    </tr>\n",
       "    <tr>\n",
       "      <th>min</th>\n",
       "      <td>30.000000</td>\n",
       "    </tr>\n",
       "    <tr>\n",
       "      <th>25%</th>\n",
       "      <td>42.000000</td>\n",
       "    </tr>\n",
       "    <tr>\n",
       "      <th>50%</th>\n",
       "      <td>48.500000</td>\n",
       "    </tr>\n",
       "    <tr>\n",
       "      <th>75%</th>\n",
       "      <td>57.000000</td>\n",
       "    </tr>\n",
       "    <tr>\n",
       "      <th>max</th>\n",
       "      <td>76.000000</td>\n",
       "    </tr>\n",
       "  </tbody>\n",
       "</table>\n",
       "</div>"
      ],
      "text/plain": [
       "              AGE\n",
       "count  144.000000\n",
       "mean    49.888889\n",
       "std      9.844320\n",
       "min     30.000000\n",
       "25%     42.000000\n",
       "50%     48.500000\n",
       "75%     57.000000\n",
       "max     76.000000"
      ]
     },
     "execution_count": 34,
     "metadata": {},
     "output_type": "execute_result"
    }
   ],
   "source": [
    "pres_cdt.describe()"
   ]
  },
  {
   "cell_type": "code",
   "execution_count": 35,
   "metadata": {},
   "outputs": [
    {
     "data": {
      "text/html": [
       "<div>\n",
       "<style scoped>\n",
       "    .dataframe tbody tr th:only-of-type {\n",
       "        vertical-align: middle;\n",
       "    }\n",
       "\n",
       "    .dataframe tbody tr th {\n",
       "        vertical-align: top;\n",
       "    }\n",
       "\n",
       "    .dataframe thead th {\n",
       "        text-align: right;\n",
       "    }\n",
       "</style>\n",
       "<table border=\"1\" class=\"dataframe\">\n",
       "  <thead>\n",
       "    <tr style=\"text-align: right;\">\n",
       "      <th></th>\n",
       "      <th>POSITION</th>\n",
       "      <th>NAME OF CANDIDATE</th>\n",
       "      <th>PARTY</th>\n",
       "      <th>AGE</th>\n",
       "      <th>GENDER</th>\n",
       "      <th>Highest Education</th>\n",
       "    </tr>\n",
       "  </thead>\n",
       "  <tbody>\n",
       "    <tr>\n",
       "      <th>103</th>\n",
       "      <td>VICE-</td>\n",
       "      <td>JOHNSON OMEDE</td>\n",
       "      <td>NNPP</td>\n",
       "      <td>30.0</td>\n",
       "      <td>M</td>\n",
       "      <td>University</td>\n",
       "    </tr>\n",
       "  </tbody>\n",
       "</table>\n",
       "</div>"
      ],
      "text/plain": [
       "    POSITION NAME OF CANDIDATE PARTY   AGE GENDER Highest Education\n",
       "103    VICE-     JOHNSON OMEDE  NNPP  30.0      M        University"
      ]
     },
     "execution_count": 35,
     "metadata": {},
     "output_type": "execute_result"
    }
   ],
   "source": [
    "pres_cdt[pres_cdt['AGE']==30]"
   ]
  },
  {
   "cell_type": "code",
   "execution_count": 36,
   "metadata": {},
   "outputs": [
    {
     "data": {
      "text/html": [
       "<div>\n",
       "<style scoped>\n",
       "    .dataframe tbody tr th:only-of-type {\n",
       "        vertical-align: middle;\n",
       "    }\n",
       "\n",
       "    .dataframe tbody tr th {\n",
       "        vertical-align: top;\n",
       "    }\n",
       "\n",
       "    .dataframe thead th {\n",
       "        text-align: right;\n",
       "    }\n",
       "</style>\n",
       "<table border=\"1\" class=\"dataframe\">\n",
       "  <thead>\n",
       "    <tr style=\"text-align: right;\">\n",
       "      <th></th>\n",
       "      <th>POSITION</th>\n",
       "      <th>NAME OF CANDIDATE</th>\n",
       "      <th>PARTY</th>\n",
       "      <th>AGE</th>\n",
       "      <th>GENDER</th>\n",
       "      <th>Highest Education</th>\n",
       "    </tr>\n",
       "  </thead>\n",
       "  <tbody>\n",
       "    <tr>\n",
       "      <th>121</th>\n",
       "      <td>VICE-</td>\n",
       "      <td>AGWUNCHA NWANKWO ARTHUR</td>\n",
       "      <td>PT</td>\n",
       "      <td>76.0</td>\n",
       "      <td>M</td>\n",
       "      <td>Doctorate</td>\n",
       "    </tr>\n",
       "  </tbody>\n",
       "</table>\n",
       "</div>"
      ],
      "text/plain": [
       "    POSITION        NAME OF CANDIDATE PARTY   AGE GENDER Highest Education\n",
       "121    VICE-  AGWUNCHA NWANKWO ARTHUR    PT  76.0      M         Doctorate"
      ]
     },
     "execution_count": 36,
     "metadata": {},
     "output_type": "execute_result"
    }
   ],
   "source": [
    "pres_cdt[pres_cdt['AGE']==76]"
   ]
  },
  {
   "cell_type": "markdown",
   "metadata": {},
   "source": [
    "We can see that the youngest and oldest people participating in the presidential elections are both vice-presidential candidates. Let us try to split the data into just presidential and vice-presidential candidates. The mean age is about 50 years for all the candidates."
   ]
  },
  {
   "cell_type": "code",
   "execution_count": 37,
   "metadata": {},
   "outputs": [],
   "source": [
    "pres_only=pres_cdt[pres_cdt['POSITION']=='PRESIDENT']\n",
    "vice_only=pres_cdt[pres_cdt['POSITION']=='VICE-']"
   ]
  },
  {
   "cell_type": "code",
   "execution_count": 38,
   "metadata": {},
   "outputs": [
    {
     "data": {
      "text/html": [
       "<div>\n",
       "<style scoped>\n",
       "    .dataframe tbody tr th:only-of-type {\n",
       "        vertical-align: middle;\n",
       "    }\n",
       "\n",
       "    .dataframe tbody tr th {\n",
       "        vertical-align: top;\n",
       "    }\n",
       "\n",
       "    .dataframe thead th {\n",
       "        text-align: right;\n",
       "    }\n",
       "</style>\n",
       "<table border=\"1\" class=\"dataframe\">\n",
       "  <thead>\n",
       "    <tr style=\"text-align: right;\">\n",
       "      <th></th>\n",
       "      <th>AGE</th>\n",
       "    </tr>\n",
       "  </thead>\n",
       "  <tbody>\n",
       "    <tr>\n",
       "      <th>count</th>\n",
       "      <td>72.000000</td>\n",
       "    </tr>\n",
       "    <tr>\n",
       "      <th>mean</th>\n",
       "      <td>51.902778</td>\n",
       "    </tr>\n",
       "    <tr>\n",
       "      <th>std</th>\n",
       "      <td>9.892606</td>\n",
       "    </tr>\n",
       "    <tr>\n",
       "      <th>min</th>\n",
       "      <td>33.000000</td>\n",
       "    </tr>\n",
       "    <tr>\n",
       "      <th>25%</th>\n",
       "      <td>45.750000</td>\n",
       "    </tr>\n",
       "    <tr>\n",
       "      <th>50%</th>\n",
       "      <td>51.500000</td>\n",
       "    </tr>\n",
       "    <tr>\n",
       "      <th>75%</th>\n",
       "      <td>59.000000</td>\n",
       "    </tr>\n",
       "    <tr>\n",
       "      <th>max</th>\n",
       "      <td>75.000000</td>\n",
       "    </tr>\n",
       "  </tbody>\n",
       "</table>\n",
       "</div>"
      ],
      "text/plain": [
       "             AGE\n",
       "count  72.000000\n",
       "mean   51.902778\n",
       "std     9.892606\n",
       "min    33.000000\n",
       "25%    45.750000\n",
       "50%    51.500000\n",
       "75%    59.000000\n",
       "max    75.000000"
      ]
     },
     "execution_count": 38,
     "metadata": {},
     "output_type": "execute_result"
    }
   ],
   "source": [
    "pres_only.describe()"
   ]
  },
  {
   "cell_type": "markdown",
   "metadata": {},
   "source": [
    "The average of presidential candidates is about 52 years. While it might be true that leading candidates are much older, the average age is relatively young.\n",
    "\n",
    "Let us take a look at the youngest and oldest presidential candidates and their portfolios."
   ]
  },
  {
   "cell_type": "code",
   "execution_count": 39,
   "metadata": {},
   "outputs": [
    {
     "name": "stdout",
     "output_type": "stream",
     "text": [
      "Oldest presidential candidate is:\n"
     ]
    },
    {
     "data": {
      "text/html": [
       "<div>\n",
       "<style scoped>\n",
       "    .dataframe tbody tr th:only-of-type {\n",
       "        vertical-align: middle;\n",
       "    }\n",
       "\n",
       "    .dataframe tbody tr th {\n",
       "        vertical-align: top;\n",
       "    }\n",
       "\n",
       "    .dataframe thead th {\n",
       "        text-align: right;\n",
       "    }\n",
       "</style>\n",
       "<table border=\"1\" class=\"dataframe\">\n",
       "  <thead>\n",
       "    <tr style=\"text-align: right;\">\n",
       "      <th></th>\n",
       "      <th>POSITION</th>\n",
       "      <th>NAME OF CANDIDATE</th>\n",
       "      <th>PARTY</th>\n",
       "      <th>AGE</th>\n",
       "      <th>GENDER</th>\n",
       "      <th>Highest Education</th>\n",
       "    </tr>\n",
       "  </thead>\n",
       "  <tbody>\n",
       "    <tr>\n",
       "      <th>32</th>\n",
       "      <td>PRESIDENT</td>\n",
       "      <td>BUHARI MUHAMMADU</td>\n",
       "      <td>APC</td>\n",
       "      <td>75.0</td>\n",
       "      <td>M</td>\n",
       "      <td>Secondary School</td>\n",
       "    </tr>\n",
       "  </tbody>\n",
       "</table>\n",
       "</div>"
      ],
      "text/plain": [
       "     POSITION NAME OF CANDIDATE PARTY   AGE GENDER Highest Education\n",
       "32  PRESIDENT  BUHARI MUHAMMADU   APC  75.0      M  Secondary School"
      ]
     },
     "execution_count": 39,
     "metadata": {},
     "output_type": "execute_result"
    }
   ],
   "source": [
    "print('Oldest presidential candidate is:')\n",
    "pres_only[pres_only['AGE']==75]"
   ]
  },
  {
   "cell_type": "code",
   "execution_count": 40,
   "metadata": {},
   "outputs": [
    {
     "name": "stdout",
     "output_type": "stream",
     "text": [
      "Youngest presidential candidate is:\n"
     ]
    },
    {
     "data": {
      "text/html": [
       "<div>\n",
       "<style scoped>\n",
       "    .dataframe tbody tr th:only-of-type {\n",
       "        vertical-align: middle;\n",
       "    }\n",
       "\n",
       "    .dataframe tbody tr th {\n",
       "        vertical-align: top;\n",
       "    }\n",
       "\n",
       "    .dataframe thead th {\n",
       "        text-align: right;\n",
       "    }\n",
       "</style>\n",
       "<table border=\"1\" class=\"dataframe\">\n",
       "  <thead>\n",
       "    <tr style=\"text-align: right;\">\n",
       "      <th></th>\n",
       "      <th>POSITION</th>\n",
       "      <th>NAME OF CANDIDATE</th>\n",
       "      <th>PARTY</th>\n",
       "      <th>AGE</th>\n",
       "      <th>GENDER</th>\n",
       "      <th>Highest Education</th>\n",
       "    </tr>\n",
       "  </thead>\n",
       "  <tbody>\n",
       "    <tr>\n",
       "      <th>126</th>\n",
       "      <td>PRESIDENT</td>\n",
       "      <td>NSEHE NSEOBONG</td>\n",
       "      <td>RP</td>\n",
       "      <td>33.0</td>\n",
       "      <td>M</td>\n",
       "      <td>University</td>\n",
       "    </tr>\n",
       "  </tbody>\n",
       "</table>\n",
       "</div>"
      ],
      "text/plain": [
       "      POSITION NAME OF CANDIDATE PARTY   AGE GENDER Highest Education\n",
       "126  PRESIDENT    NSEHE NSEOBONG    RP  33.0      M        University"
      ]
     },
     "execution_count": 40,
     "metadata": {},
     "output_type": "execute_result"
    }
   ],
   "source": [
    "print('Youngest presidential candidate is:')\n",
    "pres_only[pres_only['AGE']==33]"
   ]
  },
  {
   "cell_type": "code",
   "execution_count": 41,
   "metadata": {},
   "outputs": [
    {
     "data": {
      "text/html": [
       "<div>\n",
       "<style scoped>\n",
       "    .dataframe tbody tr th:only-of-type {\n",
       "        vertical-align: middle;\n",
       "    }\n",
       "\n",
       "    .dataframe tbody tr th {\n",
       "        vertical-align: top;\n",
       "    }\n",
       "\n",
       "    .dataframe thead th {\n",
       "        text-align: right;\n",
       "    }\n",
       "</style>\n",
       "<table border=\"1\" class=\"dataframe\">\n",
       "  <thead>\n",
       "    <tr style=\"text-align: right;\">\n",
       "      <th></th>\n",
       "      <th>AGE</th>\n",
       "    </tr>\n",
       "  </thead>\n",
       "  <tbody>\n",
       "    <tr>\n",
       "      <th>count</th>\n",
       "      <td>72.000000</td>\n",
       "    </tr>\n",
       "    <tr>\n",
       "      <th>mean</th>\n",
       "      <td>47.875000</td>\n",
       "    </tr>\n",
       "    <tr>\n",
       "      <th>std</th>\n",
       "      <td>9.439112</td>\n",
       "    </tr>\n",
       "    <tr>\n",
       "      <th>min</th>\n",
       "      <td>30.000000</td>\n",
       "    </tr>\n",
       "    <tr>\n",
       "      <th>25%</th>\n",
       "      <td>42.000000</td>\n",
       "    </tr>\n",
       "    <tr>\n",
       "      <th>50%</th>\n",
       "      <td>45.000000</td>\n",
       "    </tr>\n",
       "    <tr>\n",
       "      <th>75%</th>\n",
       "      <td>54.000000</td>\n",
       "    </tr>\n",
       "    <tr>\n",
       "      <th>max</th>\n",
       "      <td>76.000000</td>\n",
       "    </tr>\n",
       "  </tbody>\n",
       "</table>\n",
       "</div>"
      ],
      "text/plain": [
       "             AGE\n",
       "count  72.000000\n",
       "mean   47.875000\n",
       "std     9.439112\n",
       "min    30.000000\n",
       "25%    42.000000\n",
       "50%    45.000000\n",
       "75%    54.000000\n",
       "max    76.000000"
      ]
     },
     "execution_count": 41,
     "metadata": {},
     "output_type": "execute_result"
    }
   ],
   "source": [
    "vice_only.describe()"
   ]
  },
  {
   "cell_type": "markdown",
   "metadata": {},
   "source": [
    "The average of vice-presidential candidates is about 48 years. While it might be true that leading candidates are much older, the average age is relatively young.\n",
    "\n",
    "Let us take a look at the youngest and oldest presidential candidates and their portfolios."
   ]
  },
  {
   "cell_type": "code",
   "execution_count": 42,
   "metadata": {},
   "outputs": [
    {
     "name": "stdout",
     "output_type": "stream",
     "text": [
      "Youngest vice-presidential candidate is:\n"
     ]
    },
    {
     "data": {
      "text/html": [
       "<div>\n",
       "<style scoped>\n",
       "    .dataframe tbody tr th:only-of-type {\n",
       "        vertical-align: middle;\n",
       "    }\n",
       "\n",
       "    .dataframe tbody tr th {\n",
       "        vertical-align: top;\n",
       "    }\n",
       "\n",
       "    .dataframe thead th {\n",
       "        text-align: right;\n",
       "    }\n",
       "</style>\n",
       "<table border=\"1\" class=\"dataframe\">\n",
       "  <thead>\n",
       "    <tr style=\"text-align: right;\">\n",
       "      <th></th>\n",
       "      <th>POSITION</th>\n",
       "      <th>NAME OF CANDIDATE</th>\n",
       "      <th>PARTY</th>\n",
       "      <th>AGE</th>\n",
       "      <th>GENDER</th>\n",
       "      <th>Highest Education</th>\n",
       "    </tr>\n",
       "  </thead>\n",
       "  <tbody>\n",
       "    <tr>\n",
       "      <th>103</th>\n",
       "      <td>VICE-</td>\n",
       "      <td>JOHNSON OMEDE</td>\n",
       "      <td>NNPP</td>\n",
       "      <td>30.0</td>\n",
       "      <td>M</td>\n",
       "      <td>University</td>\n",
       "    </tr>\n",
       "  </tbody>\n",
       "</table>\n",
       "</div>"
      ],
      "text/plain": [
       "    POSITION NAME OF CANDIDATE PARTY   AGE GENDER Highest Education\n",
       "103    VICE-     JOHNSON OMEDE  NNPP  30.0      M        University"
      ]
     },
     "execution_count": 42,
     "metadata": {},
     "output_type": "execute_result"
    }
   ],
   "source": [
    "print('Youngest vice-presidential candidate is:')\n",
    "vice_only[vice_only['AGE']==30]"
   ]
  },
  {
   "cell_type": "code",
   "execution_count": 43,
   "metadata": {},
   "outputs": [
    {
     "name": "stdout",
     "output_type": "stream",
     "text": [
      "Oldest vice-presidential candidate is:\n"
     ]
    },
    {
     "data": {
      "text/html": [
       "<div>\n",
       "<style scoped>\n",
       "    .dataframe tbody tr th:only-of-type {\n",
       "        vertical-align: middle;\n",
       "    }\n",
       "\n",
       "    .dataframe tbody tr th {\n",
       "        vertical-align: top;\n",
       "    }\n",
       "\n",
       "    .dataframe thead th {\n",
       "        text-align: right;\n",
       "    }\n",
       "</style>\n",
       "<table border=\"1\" class=\"dataframe\">\n",
       "  <thead>\n",
       "    <tr style=\"text-align: right;\">\n",
       "      <th></th>\n",
       "      <th>POSITION</th>\n",
       "      <th>NAME OF CANDIDATE</th>\n",
       "      <th>PARTY</th>\n",
       "      <th>AGE</th>\n",
       "      <th>GENDER</th>\n",
       "      <th>Highest Education</th>\n",
       "    </tr>\n",
       "  </thead>\n",
       "  <tbody>\n",
       "    <tr>\n",
       "      <th>121</th>\n",
       "      <td>VICE-</td>\n",
       "      <td>AGWUNCHA NWANKWO ARTHUR</td>\n",
       "      <td>PT</td>\n",
       "      <td>76.0</td>\n",
       "      <td>M</td>\n",
       "      <td>Doctorate</td>\n",
       "    </tr>\n",
       "  </tbody>\n",
       "</table>\n",
       "</div>"
      ],
      "text/plain": [
       "    POSITION        NAME OF CANDIDATE PARTY   AGE GENDER Highest Education\n",
       "121    VICE-  AGWUNCHA NWANKWO ARTHUR    PT  76.0      M         Doctorate"
      ]
     },
     "execution_count": 43,
     "metadata": {},
     "output_type": "execute_result"
    }
   ],
   "source": [
    "print('Oldest vice-presidential candidate is:')\n",
    "vice_only[vice_only['AGE']==76]"
   ]
  },
  {
   "cell_type": "markdown",
   "metadata": {},
   "source": [
    "# Visualization"
   ]
  },
  {
   "cell_type": "markdown",
   "metadata": {},
   "source": [
    "Let us view the distributions of the age for both the general dataset and those of the presidential & vice-presidential candidates only."
   ]
  },
  {
   "cell_type": "code",
   "execution_count": 44,
   "metadata": {},
   "outputs": [
    {
     "data": {
      "text/plain": [
       "<matplotlib.axes._subplots.AxesSubplot at 0x26ccb0df978>"
      ]
     },
     "execution_count": 44,
     "metadata": {},
     "output_type": "execute_result"
    },
    {
     "data": {
      "image/png": "[encoded data removed]",
      "text/plain": [
       "<matplotlib.figure.Figure at 0x26ccb0dfc18>"
      ]
     },
     "metadata": {},
     "output_type": "display_data"
    }
   ],
   "source": [
    "plt.figure(figsize=(12,6))\n",
    "sns.distplot(pres_cdt['AGE'],color='blue')"
   ]
  },
  {
   "cell_type": "code",
   "execution_count": 45,
   "metadata": {},
   "outputs": [
    {
     "data": {
      "text/plain": [
       "<matplotlib.axes._subplots.AxesSubplot at 0x26ccb1c8c88>"
      ]
     },
     "execution_count": 45,
     "metadata": {},
     "output_type": "execute_result"
    },
    {
     "data": {
      "image/png": "[encoded data removed]",
      "text/plain": [
       "<matplotlib.figure.Figure at 0x26ccb195710>"
      ]
     },
     "metadata": {},
     "output_type": "display_data"
    }
   ],
   "source": [
    "plt.figure(figsize=(12,6))\n",
    "sns.distplot(pres_only['AGE'],bins=15,color='blue')"
   ]
  },
  {
   "cell_type": "code",
   "execution_count": 46,
   "metadata": {},
   "outputs": [
    {
     "data": {
      "text/plain": [
       "<matplotlib.axes._subplots.AxesSubplot at 0x26ccb1ffb00>"
      ]
     },
     "execution_count": 46,
     "metadata": {},
     "output_type": "execute_result"
    },
    {
     "data": {
      "image/png": "[encoded data removed]",
      "text/plain": [
       "<matplotlib.figure.Figure at 0x26ccb1ffc50>"
      ]
     },
     "metadata": {},
     "output_type": "display_data"
    }
   ],
   "source": [
    "plt.figure(figsize=(12,6))\n",
    "sns.distplot(vice_only['AGE'],bins=15,color='blue')"
   ]
  },
  {
   "cell_type": "markdown",
   "metadata": {},
   "source": [
    "The age distributions for all the dataset is rougly normal. Thus candidates are equally as likely to be young as to be old.\n",
    "\n",
    "Let us now explore the age feature"
   ]
  },
  {
   "cell_type": "code",
   "execution_count": 47,
   "metadata": {},
   "outputs": [
    {
     "data": {
      "text/plain": [
       "<matplotlib.axes._subplots.AxesSubplot at 0x26ccb2cff60>"
      ]
     },
     "execution_count": 47,
     "metadata": {},
     "output_type": "execute_result"
    },
    {
     "data": {
      "image/png": "[encoded data removed]",
      "text/plain": [
       "<matplotlib.figure.Figure at 0x26ccb2d3e80>"
      ]
     },
     "metadata": {},
     "output_type": "display_data"
    }
   ],
   "source": [
    "plt.figure(figsize=(12,6))\n",
    "sns.boxplot(data=pres_cdt,x='GENDER',y='AGE',palette='seismic')"
   ]
  },
  {
   "cell_type": "code",
   "execution_count": 48,
   "metadata": {},
   "outputs": [
    {
     "data": {
      "text/plain": [
       "<matplotlib.axes._subplots.AxesSubplot at 0x26ccb281a20>"
      ]
     },
     "execution_count": 48,
     "metadata": {},
     "output_type": "execute_result"
    },
    {
     "data": {
      "image/png": "[encoded data removed]",
      "text/plain": [
       "<matplotlib.figure.Figure at 0x26ccb43c978>"
      ]
     },
     "metadata": {},
     "output_type": "display_data"
    }
   ],
   "source": [
    "plt.figure(figsize=(12,6))\n",
    "sns.boxplot(data=pres_cdt,x='GENDER',y='AGE',hue='POSITION',palette='seismic')"
   ]
  },
  {
   "cell_type": "markdown",
   "metadata": {},
   "source": [
    "From the first plot, it can be seen that average age for all the female candidates is about five years less than that of their male counterparts. When seperated by position, it can be easily seen that while presidential candidates are generally on an average older than the vice-presidential candidates, the difference is less pronouced in males than females. It is interesting to know that the average age for female presidential candidates is about four years higher than that of male presidential candidates. Generally, the age range is lesser for female candidates than males."
   ]
  },
  {
   "cell_type": "code",
   "execution_count": 49,
   "metadata": {
    "scrolled": true
   },
   "outputs": [
    {
     "data": {
      "text/plain": [
       "<matplotlib.axes._subplots.AxesSubplot at 0x26ccb35ba58>"
      ]
     },
     "execution_count": 49,
     "metadata": {},
     "output_type": "execute_result"
    },
    {
     "data": {
      "image/png": "[encoded data removed]",
      "text/plain": [
       "<matplotlib.figure.Figure at 0x26ccb390828>"
      ]
     },
     "metadata": {},
     "output_type": "display_data"
    }
   ],
   "source": [
    "plt.figure(figsize=(15,7))\n",
    "sns.barplot(data=pres_cdt,x='GENDER',y='AGE',hue='Highest Education')"
   ]
  },
  {
   "cell_type": "markdown",
   "metadata": {},
   "source": [
    "There seem to be no direct relationship between the level of education and the average age of candidates with that level of education for both sexes"
   ]
  },
  {
   "cell_type": "code",
   "execution_count": 50,
   "metadata": {
    "scrolled": false
   },
   "outputs": [
    {
     "data": {
      "text/plain": [
       "<matplotlib.axes._subplots.AxesSubplot at 0x26ccb4f6518>"
      ]
     },
     "execution_count": 50,
     "metadata": {},
     "output_type": "execute_result"
    },
    {
     "data": {
      "image/png": "[encoded data removed]",
      "text/plain": [
       "<matplotlib.figure.Figure at 0x26ccb4f67b8>"
      ]
     },
     "metadata": {},
     "output_type": "display_data"
    }
   ],
   "source": [
    "plt.figure(figsize=(12,4))\n",
    "sns.countplot(data=pres_cdt,x='GENDER',palette='seismic')"
   ]
  },
  {
   "cell_type": "code",
   "execution_count": 51,
   "metadata": {
    "scrolled": true
   },
   "outputs": [
    {
     "data": {
      "text/plain": [
       "<matplotlib.axes._subplots.AxesSubplot at 0x26ccb5340b8>"
      ]
     },
     "execution_count": 51,
     "metadata": {},
     "output_type": "execute_result"
    },
    {
     "data": {
      "image/png": "[encoded data removed]",
      "text/plain": [
       "<matplotlib.figure.Figure at 0x26ccb517080>"
      ]
     },
     "metadata": {},
     "output_type": "display_data"
    }
   ],
   "source": [
    "plt.figure(figsize=(12,4))\n",
    "sns.countplot(data=pres_cdt,x='GENDER',hue='POSITION',palette='seismic')"
   ]
  },
  {
   "cell_type": "markdown",
   "metadata": {},
   "source": [
    "It is evident that there are far more men in the general candidates' list than female (about 3.5x more than females). The ratio of male presidential candidates to female is about 13:1. Most female candidates are vice-presidential candidates (about 4x more than the female presidential candidates."
   ]
  },
  {
   "cell_type": "code",
   "execution_count": 52,
   "metadata": {
    "scrolled": true
   },
   "outputs": [
    {
     "data": {
      "text/plain": [
       "<matplotlib.axes._subplots.AxesSubplot at 0x26ccb55b6d8>"
      ]
     },
     "execution_count": 52,
     "metadata": {},
     "output_type": "execute_result"
    },
    {
     "data": {
      "image/png": "[encoded data removed]",
      "text/plain": [
       "<matplotlib.figure.Figure at 0x26ccb04a198>"
      ]
     },
     "metadata": {},
     "output_type": "display_data"
    }
   ],
   "source": [
    "plt.figure(figsize=(12,4.5))\n",
    "sns.countplot(data=pres_cdt,x='Highest Education')"
   ]
  },
  {
   "cell_type": "code",
   "execution_count": 53,
   "metadata": {},
   "outputs": [
    {
     "data": {
      "text/plain": [
       "<matplotlib.axes._subplots.AxesSubplot at 0x26ccb5da898>"
      ]
     },
     "execution_count": 53,
     "metadata": {},
     "output_type": "execute_result"
    },
    {
     "data": {
      "image/png": "[encoded data removed]",
      "text/plain": [
       "<matplotlib.figure.Figure at 0x26ccb5da908>"
      ]
     },
     "metadata": {},
     "output_type": "display_data"
    }
   ],
   "source": [
    "plt.figure(figsize=(12,7))\n",
    "sns.countplot(data=pres_cdt,x='Highest Education',hue='POSITION',palette='seismic')"
   ]
  },
  {
   "cell_type": "code",
   "execution_count": 54,
   "metadata": {
    "scrolled": true
   },
   "outputs": [
    {
     "data": {
      "text/plain": [
       "<matplotlib.axes._subplots.AxesSubplot at 0x26ccb5c1470>"
      ]
     },
     "execution_count": 54,
     "metadata": {},
     "output_type": "execute_result"
    },
    {
     "data": {
      "image/png": "[encoded data removed]",
      "text/plain": [
       "<matplotlib.figure.Figure at 0x26ccb5b3240>"
      ]
     },
     "metadata": {},
     "output_type": "display_data"
    }
   ],
   "source": [
    "plt.figure(figsize=(12,4.5))\n",
    "sns.countplot(data=pres_cdt,x='Highest Education',hue='GENDER',palette='seismic')"
   ]
  },
  {
   "cell_type": "markdown",
   "metadata": {},
   "source": [
    "The most popular level of education for all the candidates is the university education. Postgraduate comes in second while secondary school comes in third.\n",
    "\n",
    "Exploring for the specific position, it is clear the trend still remains. Exploring for gender, it is seen that females are more likely to have a doctorate or an HND than a secondary school certificate"
   ]
  },
  {
   "cell_type": "markdown",
   "metadata": {},
   "source": [
    "Finally, I pivoted the candidates list and then plotted the age of the Vice-Presidential candidates to the Presidential Candidates for each party. This helps see at a glance the parties whose candidates are generally very old or vice-versa or an interesting mix."
   ]
  },
  {
   "cell_type": "code",
   "execution_count": 55,
   "metadata": {},
   "outputs": [],
   "source": [
    "df=pres_cdt.pivot_table(index='PARTY',values='AGE',columns='POSITION')\n",
    "df.reset_index(level=0, inplace=True)"
   ]
  },
  {
   "cell_type": "code",
   "execution_count": 56,
   "metadata": {},
   "outputs": [
    {
     "data": {
      "image/png": "[encoded data removed]",
      "text/plain": [
       "<matplotlib.figure.Figure at 0x26ccb931668>"
      ]
     },
     "metadata": {},
     "output_type": "display_data"
    }
   ],
   "source": [
    "f, (axs1,axs2) = plt.subplots(1,2,figsize=(20,15))\n",
    "\n",
    "p1=sns.regplot(data=df[0:int(df.shape[0]/2)], y=\"PRESIDENT\", x=\"VICE-\", fit_reg=False, marker=\"+\", color=\"red\", scatter_kws={'s':200},ax=axs1)\n",
    "p2=sns.regplot(data=df[int(df.shape[0]/2)-1:df.shape[0]], y=\"PRESIDENT\", x=\"VICE-\", fit_reg=False, marker=\"+\", color=\"red\", scatter_kws={'s':200},ax=axs2)\n",
    "\n",
    "# add annotations one by one with a loop\n",
    "for line in range(0,int(df.shape[0]/2)):\n",
    "     p1.text(df['VICE-'][line]+0.2, df[\"PRESIDENT\"][line]+0.1, df[\"PARTY\"][line], horizontalalignment='left', size='large', color='black', weight='semibold')\n",
    "        \n",
    "for line in range(int(df.shape[0]/2)-1,df.shape[0]):\n",
    "     p2.text(df['VICE-'][line]+0.2, df[\"PRESIDENT\"][line]+0.1, df[\"PARTY\"][line], horizontalalignment='left', size='large', color='black', weight='semibold')"
   ]
  },
  {
   "cell_type": "code",
   "execution_count": 57,
   "metadata": {},
   "outputs": [
    {
     "data": {
      "text/plain": [
       "<seaborn.axisgrid.FacetGrid at 0x26ccb6e93c8>"
      ]
     },
     "execution_count": 57,
     "metadata": {},
     "output_type": "execute_result"
    },
    {
     "data": {
      "text/plain": [
       "<matplotlib.figure.Figure at 0x26ccb7060b8>"
      ]
     },
     "metadata": {},
     "output_type": "display_data"
    },
    {
     "data": {
      "image/png": "[encoded data removed]",
      "text/plain": [
       "<matplotlib.figure.Figure at 0x26ccb6e9208>"
      ]
     },
     "metadata": {},
     "output_type": "display_data"
    }
   ],
   "source": [
    "plt.figure(figsize=(20,20))\n",
    "sns.lmplot(data=df, y=\"PRESIDENT\", x=\"VICE-\", fit_reg=True, scatter_kws={'s':100})"
   ]
  },
  {
   "cell_type": "markdown",
   "metadata": {},
   "source": [
    "It can be seen that in general the higher the age of the vice-presidential candidate, the higher the age of the presidential candidate."
   ]
  },
  {
   "cell_type": "code",
   "execution_count": null,
   "metadata": {},
   "outputs": [],
   "source": []
  }
 ],
 "metadata": {
  "kernelspec": {
   "display_name": "Python 3",
   "language": "python",
   "name": "python3"
  },
  "language_info": {
   "codemirror_mode": {
    "name": "ipython",
    "version": 3
   },
   "file_extension": ".py",
   "mimetype": "text/x-python",
   "name": "python",
   "nbconvert_exporter": "python",
   "pygments_lexer": "ipython3",
   "version": "3.6.4"
  }
 },
 "nbformat": 4,
 "nbformat_minor": 2
}
